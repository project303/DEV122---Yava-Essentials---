{
  "nbformat": 4,
  "nbformat_minor": 0,
  "metadata": {
    "colab": {
      "name": "LAB06: Know Your Data",
      "provenance": [],
      "collapsed_sections": []
    },
    "kernelspec": {
      "name": "python3",
      "display_name": "Python 3"
    }
  },
  "cells": [
    {
      "cell_type": "markdown",
      "metadata": {
        "id": "lMvzzpeh43Qn"
      },
      "source": [
        "# LAB06: Know Your Data"
      ]
    },
    {
      "cell_type": "markdown",
      "metadata": {
        "id": "g6SlW1bwOISs"
      },
      "source": [
        "## Download Dataset"
      ]
    },
    {
      "cell_type": "markdown",
      "metadata": {
        "id": "Zi_-9YlfiPtt"
      },
      "source": [
        "**1. Download dataset from dropbox**"
      ]
    },
    {
      "cell_type": "code",
      "metadata": {
        "id": "-5j6QAhBOFzC",
        "outputId": "375490a6-11fe-4ab0-ffd5-65207d888d65",
        "colab": {
          "base_uri": "https://localhost:8080/"
        }
      },
      "source": [
        "!wget https://www.dropbox.com/s/zc3tdpb7tjj4nt1/dataset-bikesharing.csv"
      ],
      "execution_count": null,
      "outputs": [
        {
          "output_type": "stream",
          "text": [
            "--2020-11-03 12:47:27--  https://www.dropbox.com/s/zc3tdpb7tjj4nt1/dataset-bikesharing.csv\n",
            "Resolving www.dropbox.com (www.dropbox.com)... 162.125.1.1, 2620:100:6016:1::a27d:101\n",
            "Connecting to www.dropbox.com (www.dropbox.com)|162.125.1.1|:443... connected.\n",
            "HTTP request sent, awaiting response... 301 Moved Permanently\n",
            "Location: /s/raw/zc3tdpb7tjj4nt1/dataset-bikesharing.csv [following]\n",
            "--2020-11-03 12:47:27--  https://www.dropbox.com/s/raw/zc3tdpb7tjj4nt1/dataset-bikesharing.csv\n",
            "Reusing existing connection to www.dropbox.com:443.\n",
            "HTTP request sent, awaiting response... 302 Found\n",
            "Location: https://uc4b5f3c02ecbf620e75e9c35eea.dl.dropboxusercontent.com/cd/0/inline/BCdHRlXimCAuGu1WBg-W-Mv-FJCn99t0zp4iG4aEW-cLnzHu7lABRzzVOH_KRs083eTJz33LC7m1G_oD1E_ZEWC4igINjdyK0cMTV91qYgQ_LEaQFYqO6YDIhCoaUzKq8sM/file# [following]\n",
            "--2020-11-03 12:47:27--  https://uc4b5f3c02ecbf620e75e9c35eea.dl.dropboxusercontent.com/cd/0/inline/BCdHRlXimCAuGu1WBg-W-Mv-FJCn99t0zp4iG4aEW-cLnzHu7lABRzzVOH_KRs083eTJz33LC7m1G_oD1E_ZEWC4igINjdyK0cMTV91qYgQ_LEaQFYqO6YDIhCoaUzKq8sM/file\n",
            "Resolving uc4b5f3c02ecbf620e75e9c35eea.dl.dropboxusercontent.com (uc4b5f3c02ecbf620e75e9c35eea.dl.dropboxusercontent.com)... 162.125.1.15, 2620:100:6016:15::a27d:10f\n",
            "Connecting to uc4b5f3c02ecbf620e75e9c35eea.dl.dropboxusercontent.com (uc4b5f3c02ecbf620e75e9c35eea.dl.dropboxusercontent.com)|162.125.1.15|:443... connected.\n",
            "HTTP request sent, awaiting response... 200 OK\n",
            "Length: 1156736 (1.1M) [text/plain]\n",
            "Saving to: ‘dataset-bikesharing.csv’\n",
            "\n",
            "dataset-bikesharing 100%[===================>]   1.10M  --.-KB/s    in 0.1s    \n",
            "\n",
            "2020-11-03 12:47:28 (9.54 MB/s) - ‘dataset-bikesharing.csv’ saved [1156736/1156736]\n",
            "\n"
          ],
          "name": "stdout"
        }
      ]
    },
    {
      "cell_type": "markdown",
      "metadata": {
        "id": "LQYzgfI4iW50"
      },
      "source": [
        "**2. Verify downloaded dataset** "
      ]
    },
    {
      "cell_type": "code",
      "metadata": {
        "id": "N9wx12_1Ocv8",
        "outputId": "721c6163-8348-4929-8b4c-666737a56596",
        "colab": {
          "base_uri": "https://localhost:8080/"
        }
      },
      "source": [
        "!ls"
      ],
      "execution_count": null,
      "outputs": [
        {
          "output_type": "stream",
          "text": [
            "dataset-bikesharing.csv  sample_data\n"
          ],
          "name": "stdout"
        }
      ]
    },
    {
      "cell_type": "markdown",
      "metadata": {
        "id": "BTHpfnyiicwJ"
      },
      "source": [
        "**3. Count Number of Line**"
      ]
    },
    {
      "cell_type": "code",
      "metadata": {
        "id": "3Dfq1I4oOe7R",
        "outputId": "b5c5cb26-0935-465a-f9c8-3456e35afd65",
        "colab": {
          "base_uri": "https://localhost:8080/"
        }
      },
      "source": [
        "!wc -l dataset-bikesharing.csv"
      ],
      "execution_count": null,
      "outputs": [
        {
          "output_type": "stream",
          "text": [
            "17380 dataset-bikesharing.csv\n"
          ],
          "name": "stdout"
        }
      ]
    },
    {
      "cell_type": "markdown",
      "metadata": {
        "id": "GjRDhHoAiqJW"
      },
      "source": [
        "**4. View Sample of Data**"
      ]
    },
    {
      "cell_type": "code",
      "metadata": {
        "id": "1gDVgpJROjzB",
        "outputId": "f4c01970-bfc7-4762-e05d-58e584bb3f91",
        "colab": {
          "base_uri": "https://localhost:8080/"
        }
      },
      "source": [
        "!head dataset-bikesharing.csv"
      ],
      "execution_count": null,
      "outputs": [
        {
          "output_type": "stream",
          "text": [
            "instant,dteday,season,yr,mnth,hr,holiday,weekday,workingday,weathersit,temp,atemp,hum,windspeed,casual,registered,cnt\r\n",
            "1,2011-01-01,1,0,1,0,0,6,0,1,0.24,0.2879,0.81,0,3,13,16\r\n",
            "2,2011-01-01,1,0,1,1,0,6,0,1,0.22,0.2727,0.8,0,8,32,40\r\n",
            "3,2011-01-01,1,0,1,2,0,6,0,1,0.22,0.2727,0.8,0,5,27,32\r\n",
            "4,2011-01-01,1,0,1,3,0,6,0,1,0.24,0.2879,0.75,0,3,10,13\r\n",
            "5,2011-01-01,1,0,1,4,0,6,0,1,0.24,0.2879,0.75,0,0,1,1\r\n",
            "6,2011-01-01,1,0,1,5,0,6,0,2,0.24,0.2576,0.75,0.0896,0,1,1\r\n",
            "7,2011-01-01,1,0,1,6,0,6,0,1,0.22,0.2727,0.8,0,2,0,2\r\n",
            "8,2011-01-01,1,0,1,7,0,6,0,1,0.2,0.2576,0.86,0,1,2,3\r\n",
            "9,2011-01-01,1,0,1,8,0,6,0,1,0.24,0.2879,0.75,0,1,7,8\r\n"
          ],
          "name": "stdout"
        }
      ]
    },
    {
      "cell_type": "markdown",
      "metadata": {
        "id": "732rT9rs6F8M"
      },
      "source": [
        "## PySpark Preparation"
      ]
    },
    {
      "cell_type": "markdown",
      "metadata": {
        "id": "EJegWLzjnHQq"
      },
      "source": [
        "**1. Install PySpark**"
      ]
    },
    {
      "cell_type": "code",
      "metadata": {
        "id": "HhRvjFGTdmhF",
        "outputId": "76ac9f58-4ace-4dbf-c6cc-5bb45babf807",
        "colab": {
          "base_uri": "https://localhost:8080/"
        }
      },
      "source": [
        "%pip install pyspark"
      ],
      "execution_count": null,
      "outputs": [
        {
          "output_type": "stream",
          "text": [
            "Collecting pyspark\n",
            "\u001b[?25l  Downloading https://files.pythonhosted.org/packages/f0/26/198fc8c0b98580f617cb03cb298c6056587b8f0447e20fa40c5b634ced77/pyspark-3.0.1.tar.gz (204.2MB)\n",
            "\u001b[K     |████████████████████████████████| 204.2MB 67kB/s \n",
            "\u001b[?25hCollecting py4j==0.10.9\n",
            "\u001b[?25l  Downloading https://files.pythonhosted.org/packages/9e/b6/6a4fb90cd235dc8e265a6a2067f2a2c99f0d91787f06aca4bcf7c23f3f80/py4j-0.10.9-py2.py3-none-any.whl (198kB)\n",
            "\u001b[K     |████████████████████████████████| 204kB 41.3MB/s \n",
            "\u001b[?25hBuilding wheels for collected packages: pyspark\n",
            "  Building wheel for pyspark (setup.py) ... \u001b[?25l\u001b[?25hdone\n",
            "  Created wheel for pyspark: filename=pyspark-3.0.1-py2.py3-none-any.whl size=204612243 sha256=966d21445d34675a28cb96d86ec35beeb484b138eae1fbe2c13c6cc4295ff42a\n",
            "  Stored in directory: /root/.cache/pip/wheels/5e/bd/07/031766ca628adec8435bb40f0bd83bb676ce65ff4007f8e73f\n",
            "Successfully built pyspark\n",
            "Installing collected packages: py4j, pyspark\n",
            "Successfully installed py4j-0.10.9 pyspark-3.0.1\n"
          ],
          "name": "stdout"
        }
      ]
    },
    {
      "cell_type": "markdown",
      "metadata": {
        "id": "o05qeSztnQXN"
      },
      "source": [
        "**2. Create Spark Session**"
      ]
    },
    {
      "cell_type": "code",
      "metadata": {
        "id": "rS18qPZ6d5pR"
      },
      "source": [
        "import pyspark\n",
        "from pyspark.sql import SparkSession\n",
        "spark = SparkSession.builder.appName('Labs07B').getOrCreate()"
      ],
      "execution_count": null,
      "outputs": []
    },
    {
      "cell_type": "code",
      "metadata": {
        "id": "nxk0bo7k6ILC",
        "outputId": "7ea09a05-3b86-4390-e63a-ea634ef3faf2",
        "colab": {
          "base_uri": "https://localhost:8080/"
        }
      },
      "source": [
        "print(\"Spark version : \" + spark.version)"
      ],
      "execution_count": null,
      "outputs": [
        {
          "output_type": "stream",
          "text": [
            "Spark version : 3.0.1\n"
          ],
          "name": "stdout"
        }
      ]
    },
    {
      "cell_type": "code",
      "metadata": {
        "id": "mtWx6wEP6MXS",
        "outputId": "50eade24-8728-4c46-caef-8ad23ea7aff6",
        "colab": {
          "base_uri": "https://localhost:8080/"
        }
      },
      "source": [
        "import sys\n",
        "print(\"Python version : \" + sys.version)"
      ],
      "execution_count": null,
      "outputs": [
        {
          "output_type": "stream",
          "text": [
            "Python version : 3.6.9 (default, Oct  8 2020, 12:12:24) \n",
            "[GCC 8.4.0]\n"
          ],
          "name": "stdout"
        }
      ]
    },
    {
      "cell_type": "markdown",
      "metadata": {
        "id": "-EBkotgGPJ3j"
      },
      "source": [
        "## Read Dataset"
      ]
    },
    {
      "cell_type": "markdown",
      "metadata": {
        "id": "j_Dhf5q3ndHg"
      },
      "source": [
        "**1. Load dataset to dataframe**"
      ]
    },
    {
      "cell_type": "code",
      "metadata": {
        "id": "ccK0P-76PI0E",
        "outputId": "8994eefa-8a72-4275-ab4d-c6c53d8c1649",
        "colab": {
          "base_uri": "https://localhost:8080/"
        }
      },
      "source": [
        "file_path = \"dataset-bikesharing.csv\"\n",
        "\n",
        "df_bikesharing = spark.read.csv(path=file_path, header = True, inferSchema = True)\n",
        "df_bikesharing.show(5)\n"
      ],
      "execution_count": null,
      "outputs": [
        {
          "output_type": "stream",
          "text": [
            "+-------+----------+------+---+----+---+-------+-------+----------+----------+----+------+----+---------+------+----------+---+\n",
            "|instant|    dteday|season| yr|mnth| hr|holiday|weekday|workingday|weathersit|temp| atemp| hum|windspeed|casual|registered|cnt|\n",
            "+-------+----------+------+---+----+---+-------+-------+----------+----------+----+------+----+---------+------+----------+---+\n",
            "|      1|2011-01-01|     1|  0|   1|  0|      0|      6|         0|         1|0.24|0.2879|0.81|      0.0|     3|        13| 16|\n",
            "|      2|2011-01-01|     1|  0|   1|  1|      0|      6|         0|         1|0.22|0.2727| 0.8|      0.0|     8|        32| 40|\n",
            "|      3|2011-01-01|     1|  0|   1|  2|      0|      6|         0|         1|0.22|0.2727| 0.8|      0.0|     5|        27| 32|\n",
            "|      4|2011-01-01|     1|  0|   1|  3|      0|      6|         0|         1|0.24|0.2879|0.75|      0.0|     3|        10| 13|\n",
            "|      5|2011-01-01|     1|  0|   1|  4|      0|      6|         0|         1|0.24|0.2879|0.75|      0.0|     0|         1|  1|\n",
            "+-------+----------+------+---+----+---+-------+-------+----------+----------+----+------+----+---------+------+----------+---+\n",
            "only showing top 5 rows\n",
            "\n"
          ],
          "name": "stdout"
        }
      ]
    },
    {
      "cell_type": "markdown",
      "metadata": {
        "id": "DxBVIYHhLGC8"
      },
      "source": [
        "**2. View data structure**"
      ]
    },
    {
      "cell_type": "code",
      "metadata": {
        "id": "0V8qakaPPgYV",
        "outputId": "fd2d8813-8536-4357-bfe5-c5dc16ff20db",
        "colab": {
          "base_uri": "https://localhost:8080/"
        }
      },
      "source": [
        "df_bikesharing.printSchema()"
      ],
      "execution_count": null,
      "outputs": [
        {
          "output_type": "stream",
          "text": [
            "root\n",
            " |-- instant: integer (nullable = true)\n",
            " |-- dteday: string (nullable = true)\n",
            " |-- season: integer (nullable = true)\n",
            " |-- yr: integer (nullable = true)\n",
            " |-- mnth: integer (nullable = true)\n",
            " |-- hr: integer (nullable = true)\n",
            " |-- holiday: integer (nullable = true)\n",
            " |-- weekday: integer (nullable = true)\n",
            " |-- workingday: integer (nullable = true)\n",
            " |-- weathersit: integer (nullable = true)\n",
            " |-- temp: double (nullable = true)\n",
            " |-- atemp: double (nullable = true)\n",
            " |-- hum: double (nullable = true)\n",
            " |-- windspeed: double (nullable = true)\n",
            " |-- casual: integer (nullable = true)\n",
            " |-- registered: integer (nullable = true)\n",
            " |-- cnt: integer (nullable = true)\n",
            "\n"
          ],
          "name": "stdout"
        }
      ]
    },
    {
      "cell_type": "markdown",
      "metadata": {
        "id": "K3ey2uzPUH5o"
      },
      "source": [
        "*   instant: Record index\n",
        "*   dteday: Date\n",
        "*   season: Season (1:springer, 2:summer, 3:fall, 4:winter)\n",
        "*   yr: Year (0: 2011, 1:2012)\n",
        "*   mnth: Month (1 to 12)\n",
        "*   hr: Hour (0 to 23)\n",
        "*   holiday: weather day is holiday or not (extracted from Holiday Schedule)\n",
        "*   weekday: Day of the week\n",
        "*   workingday: If day is neither weekend nor holiday is 1, otherwise is 0.\n",
        "*   weathersit\n",
        "*   temp: Normalized temperature in Celsius. The values are derived via (t-tmin)/(tmax-tmin), tmin=-8, t_max=+39 (only in hourly scale)\n",
        "*   atemp: Normalized feeling temperature in Celsius. The values are derived via (t-tmin)/(tmax-tmin), tmin=-16, t_max=+50 (only in hourly scale)\n",
        "*   hum: Normalized humidity. The values are divided to 100 (max)\n",
        "*   windspeed: Normalized wind speed. The values are divided to 67 (max)\n",
        "*   casual: count of casual users\n",
        "*   registered: count of registered users\n",
        "*   cnt: count of total rental bikes including both casual and registered\n"
      ]
    },
    {
      "cell_type": "markdown",
      "metadata": {
        "id": "4GkWPo48LShP"
      },
      "source": [
        "**2. Count number of record**"
      ]
    },
    {
      "cell_type": "code",
      "metadata": {
        "id": "19RT3FRQP39P",
        "outputId": "230b3682-d2ea-449d-d7ee-418a7f06f01b",
        "colab": {
          "base_uri": "https://localhost:8080/"
        }
      },
      "source": [
        "print ('Number of records: %d ' % df_bikesharing.count())"
      ],
      "execution_count": null,
      "outputs": [
        {
          "output_type": "stream",
          "text": [
            "Number of records: 17379 \n"
          ],
          "name": "stdout"
        }
      ]
    },
    {
      "cell_type": "markdown",
      "metadata": {
        "id": "A_m20nXmLc4N"
      },
      "source": [
        "## Know Your Data"
      ]
    },
    {
      "cell_type": "markdown",
      "metadata": {
        "id": "-Q_IbRI8LzvK"
      },
      "source": [
        "**1. Create table from dataframe**"
      ]
    },
    {
      "cell_type": "code",
      "metadata": {
        "id": "JuQ0amGhMc2x"
      },
      "source": [
        "df_bikesharing.createOrReplaceTempView(\"bikesharing\")"
      ],
      "execution_count": null,
      "outputs": []
    },
    {
      "cell_type": "markdown",
      "metadata": {
        "id": "zUwZc5TlMpbs"
      },
      "source": [
        "**2. View sample record**"
      ]
    },
    {
      "cell_type": "code",
      "metadata": {
        "id": "9adzgr7FMvx3",
        "outputId": "2a74f83b-4281-4d7a-9349-c03f07cc3386",
        "colab": {
          "base_uri": "https://localhost:8080/"
        }
      },
      "source": [
        "spark.sql(\"\\\n",
        "SELECT * \\\n",
        "FROM bikesharing \\\n",
        "\").show(5)"
      ],
      "execution_count": null,
      "outputs": [
        {
          "output_type": "stream",
          "text": [
            "+-------+----------+------+---+----+---+-------+-------+----------+----------+----+------+----+---------+------+----------+---+\n",
            "|instant|    dteday|season| yr|mnth| hr|holiday|weekday|workingday|weathersit|temp| atemp| hum|windspeed|casual|registered|cnt|\n",
            "+-------+----------+------+---+----+---+-------+-------+----------+----------+----+------+----+---------+------+----------+---+\n",
            "|      1|2011-01-01|     1|  0|   1|  0|      0|      6|         0|         1|0.24|0.2879|0.81|      0.0|     3|        13| 16|\n",
            "|      2|2011-01-01|     1|  0|   1|  1|      0|      6|         0|         1|0.22|0.2727| 0.8|      0.0|     8|        32| 40|\n",
            "|      3|2011-01-01|     1|  0|   1|  2|      0|      6|         0|         1|0.22|0.2727| 0.8|      0.0|     5|        27| 32|\n",
            "|      4|2011-01-01|     1|  0|   1|  3|      0|      6|         0|         1|0.24|0.2879|0.75|      0.0|     3|        10| 13|\n",
            "|      5|2011-01-01|     1|  0|   1|  4|      0|      6|         0|         1|0.24|0.2879|0.75|      0.0|     0|         1|  1|\n",
            "+-------+----------+------+---+----+---+-------+-------+----------+----------+----+------+----+---------+------+----------+---+\n",
            "only showing top 5 rows\n",
            "\n"
          ],
          "name": "stdout"
        }
      ]
    },
    {
      "cell_type": "markdown",
      "metadata": {
        "id": "4DAmG2RrM-vw"
      },
      "source": [
        "**3. Calculate number of transaction and number of records**"
      ]
    },
    {
      "cell_type": "code",
      "metadata": {
        "id": "jg-dgbbrMvo9",
        "outputId": "b11e68e3-950c-438a-f463-48f0978aa901",
        "colab": {
          "base_uri": "https://localhost:8080/"
        }
      },
      "source": [
        "spark.sql(\"\\\n",
        "SELECT sum(cnt) total_trx, \\\n",
        "count(*) num_record \\\n",
        "FROM bikesharing \\\n",
        "\").show()"
      ],
      "execution_count": null,
      "outputs": [
        {
          "output_type": "stream",
          "text": [
            "+---------+----------+\n",
            "|total_trx|num_record|\n",
            "+---------+----------+\n",
            "|  3292679|     17379|\n",
            "+---------+----------+\n",
            "\n"
          ],
          "name": "stdout"
        }
      ]
    },
    {
      "cell_type": "markdown",
      "metadata": {
        "id": "aEnUZW7ENwV-"
      },
      "source": [
        "**4. Check season column**"
      ]
    },
    {
      "cell_type": "code",
      "metadata": {
        "id": "WCpJx_NZNZXV",
        "outputId": "95cc9b04-1381-4cf7-cc27-b8c322cd107b",
        "colab": {
          "base_uri": "https://localhost:8080/"
        }
      },
      "source": [
        "spark.sql(\"\\\n",
        "SELECT season, \\\n",
        "count(*) num_record \\\n",
        "FROM bikesharing \\\n",
        "GROUP BY season \\\n",
        "ORDER BY season ASC \\\n",
        "\").show()"
      ],
      "execution_count": null,
      "outputs": [
        {
          "output_type": "stream",
          "text": [
            "+------+----------+\n",
            "|season|num_record|\n",
            "+------+----------+\n",
            "|     1|      4242|\n",
            "|     2|      4409|\n",
            "|     3|      4496|\n",
            "|     4|      4232|\n",
            "+------+----------+\n",
            "\n"
          ],
          "name": "stdout"
        }
      ]
    },
    {
      "cell_type": "markdown",
      "metadata": {
        "id": "OkNZjLlsN6VY"
      },
      "source": [
        "**5. Check column yr**"
      ]
    },
    {
      "cell_type": "code",
      "metadata": {
        "id": "TykuMVHrOCAg",
        "outputId": "f6e858bb-ea16-4601-c801-3dae16a05c88",
        "colab": {
          "base_uri": "https://localhost:8080/"
        }
      },
      "source": [
        "spark.sql(\"\\\n",
        "SELECT yr, \\\n",
        "count(*) num_record \\\n",
        "FROM bikesharing \\\n",
        "GROUP BY yr \\\n",
        "ORDER BY yr ASC \\\n",
        "\").show()"
      ],
      "execution_count": null,
      "outputs": [
        {
          "output_type": "stream",
          "text": [
            "+---+----------+\n",
            "| yr|num_record|\n",
            "+---+----------+\n",
            "|  0|      8645|\n",
            "|  1|      8734|\n",
            "+---+----------+\n",
            "\n"
          ],
          "name": "stdout"
        }
      ]
    },
    {
      "cell_type": "markdown",
      "metadata": {
        "id": "69ckTElzORYO"
      },
      "source": [
        "**6. Get maximum and minimum value mnth**"
      ]
    },
    {
      "cell_type": "code",
      "metadata": {
        "id": "tk94-0IBOcqD",
        "outputId": "564ad083-172e-47cc-c342-d11615d8fb02",
        "colab": {
          "base_uri": "https://localhost:8080/"
        }
      },
      "source": [
        "spark.sql(\"\\\n",
        "SELECT min(mnth) min_month, \\\n",
        "max(mnth) max_month \\\n",
        "FROM bikesharing \\\n",
        "\").show()"
      ],
      "execution_count": null,
      "outputs": [
        {
          "output_type": "stream",
          "text": [
            "+---------+---------+\n",
            "|min_month|max_month|\n",
            "+---------+---------+\n",
            "|        1|       12|\n",
            "+---------+---------+\n",
            "\n"
          ],
          "name": "stdout"
        }
      ]
    },
    {
      "cell_type": "markdown",
      "metadata": {
        "id": "vWAA085YOztq"
      },
      "source": [
        "**7. Check weathersit column**"
      ]
    },
    {
      "cell_type": "code",
      "metadata": {
        "id": "Xvoj5l0INMRy",
        "outputId": "a5a82c52-6537-4f84-f604-8c0715df97c7",
        "colab": {
          "base_uri": "https://localhost:8080/"
        }
      },
      "source": [
        "spark.sql(\"\\\n",
        "SELECT weathersit, \\\n",
        "count(*) num_record \\\n",
        "FROM bikesharing \\\n",
        "GROUP BY weathersit \\\n",
        "ORDER BY weathersit\\\n",
        "\").show()"
      ],
      "execution_count": null,
      "outputs": [
        {
          "output_type": "stream",
          "text": [
            "+----------+----------+\n",
            "|weathersit|num_record|\n",
            "+----------+----------+\n",
            "|         1|     11413|\n",
            "|         2|      4544|\n",
            "|         3|      1419|\n",
            "|         4|         3|\n",
            "+----------+----------+\n",
            "\n"
          ],
          "name": "stdout"
        }
      ]
    },
    {
      "cell_type": "markdown",
      "metadata": {
        "id": "M3HFt7ZeRnuR"
      },
      "source": [
        "**8. Check duplicate record**"
      ]
    },
    {
      "cell_type": "code",
      "metadata": {
        "id": "s3SQNYT3Mvau",
        "outputId": "abb9a415-9f5c-4db6-8a06-e4006119cc53",
        "colab": {
          "base_uri": "https://localhost:8080/"
        }
      },
      "source": [
        "spark.sql(\"\\\n",
        "SELECT * \\\n",
        "FROM bikesharing \\\n",
        "\").show()"
      ],
      "execution_count": null,
      "outputs": [
        {
          "output_type": "stream",
          "text": [
            "+-------+----------+------+---+----+---+-------+-------+----------+----------+----+------+----+---------+------+----------+---+\n",
            "|instant|    dteday|season| yr|mnth| hr|holiday|weekday|workingday|weathersit|temp| atemp| hum|windspeed|casual|registered|cnt|\n",
            "+-------+----------+------+---+----+---+-------+-------+----------+----------+----+------+----+---------+------+----------+---+\n",
            "|      1|2011-01-01|     1|  0|   1|  0|      0|      6|         0|         1|0.24|0.2879|0.81|      0.0|     3|        13| 16|\n",
            "|      2|2011-01-01|     1|  0|   1|  1|      0|      6|         0|         1|0.22|0.2727| 0.8|      0.0|     8|        32| 40|\n",
            "|      3|2011-01-01|     1|  0|   1|  2|      0|      6|         0|         1|0.22|0.2727| 0.8|      0.0|     5|        27| 32|\n",
            "|      4|2011-01-01|     1|  0|   1|  3|      0|      6|         0|         1|0.24|0.2879|0.75|      0.0|     3|        10| 13|\n",
            "|      5|2011-01-01|     1|  0|   1|  4|      0|      6|         0|         1|0.24|0.2879|0.75|      0.0|     0|         1|  1|\n",
            "|      6|2011-01-01|     1|  0|   1|  5|      0|      6|         0|         2|0.24|0.2576|0.75|   0.0896|     0|         1|  1|\n",
            "|      7|2011-01-01|     1|  0|   1|  6|      0|      6|         0|         1|0.22|0.2727| 0.8|      0.0|     2|         0|  2|\n",
            "|      8|2011-01-01|     1|  0|   1|  7|      0|      6|         0|         1| 0.2|0.2576|0.86|      0.0|     1|         2|  3|\n",
            "|      9|2011-01-01|     1|  0|   1|  8|      0|      6|         0|         1|0.24|0.2879|0.75|      0.0|     1|         7|  8|\n",
            "|     10|2011-01-01|     1|  0|   1|  9|      0|      6|         0|         1|0.32|0.3485|0.76|      0.0|     8|         6| 14|\n",
            "|     11|2011-01-01|     1|  0|   1| 10|      0|      6|         0|         1|0.38|0.3939|0.76|   0.2537|    12|        24| 36|\n",
            "|     12|2011-01-01|     1|  0|   1| 11|      0|      6|         0|         1|0.36|0.3333|0.81|   0.2836|    26|        30| 56|\n",
            "|     13|2011-01-01|     1|  0|   1| 12|      0|      6|         0|         1|0.42|0.4242|0.77|   0.2836|    29|        55| 84|\n",
            "|     14|2011-01-01|     1|  0|   1| 13|      0|      6|         0|         2|0.46|0.4545|0.72|   0.2985|    47|        47| 94|\n",
            "|     15|2011-01-01|     1|  0|   1| 14|      0|      6|         0|         2|0.46|0.4545|0.72|   0.2836|    35|        71|106|\n",
            "|     16|2011-01-01|     1|  0|   1| 15|      0|      6|         0|         2|0.44|0.4394|0.77|   0.2985|    40|        70|110|\n",
            "|     17|2011-01-01|     1|  0|   1| 16|      0|      6|         0|         2|0.42|0.4242|0.82|   0.2985|    41|        52| 93|\n",
            "|     18|2011-01-01|     1|  0|   1| 17|      0|      6|         0|         2|0.44|0.4394|0.82|   0.2836|    15|        52| 67|\n",
            "|     19|2011-01-01|     1|  0|   1| 18|      0|      6|         0|         3|0.42|0.4242|0.88|   0.2537|     9|        26| 35|\n",
            "|     20|2011-01-01|     1|  0|   1| 19|      0|      6|         0|         3|0.42|0.4242|0.88|   0.2537|     6|        31| 37|\n",
            "+-------+----------+------+---+----+---+-------+-------+----------+----------+----+------+----+---------+------+----------+---+\n",
            "only showing top 20 rows\n",
            "\n"
          ],
          "name": "stdout"
        }
      ]
    },
    {
      "cell_type": "code",
      "metadata": {
        "id": "qC0_RBVKQa2P",
        "outputId": "71fdebcc-61c2-46bc-f5d2-6937f2e4fd7f",
        "colab": {
          "base_uri": "https://localhost:8080/"
        }
      },
      "source": [
        "spark.sql(\"\\\n",
        "SELECT concat(dteday, '-', hr) hour_id, \\\n",
        "count(*) num_record \\\n",
        "FROM bikesharing \\\n",
        "GROUP BY hour_id \\\n",
        "HAVING num_record > 1 \\\n",
        "\").show()"
      ],
      "execution_count": null,
      "outputs": [
        {
          "output_type": "stream",
          "text": [
            "+-------+----------+\n",
            "|hour_id|num_record|\n",
            "+-------+----------+\n",
            "+-------+----------+\n",
            "\n"
          ],
          "name": "stdout"
        }
      ]
    },
    {
      "cell_type": "code",
      "metadata": {
        "id": "oi-fpjOMpyJe"
      },
      "source": [
        ""
      ],
      "execution_count": null,
      "outputs": []
    }
  ]
}